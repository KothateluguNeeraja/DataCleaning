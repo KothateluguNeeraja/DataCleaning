{
 "cells": [
  {
   "cell_type": "code",
   "execution_count": 3,
   "id": "7a6e6ac1-ef14-40d2-9161-69fdc8926344",
   "metadata": {},
   "outputs": [
    {
     "name": "stdout",
     "output_type": "stream",
     "text": [
      "Requirement already satisfied: numpy in c:\\users\\kotha\\anaconda3\\lib\\site-packages (1.26.4)\n"
     ]
    }
   ],
   "source": [
    "!pip install numpy"
   ]
  },
  {
   "cell_type": "code",
   "execution_count": 4,
   "id": "c686e44f-ce14-4560-ab75-3026c30ac32e",
   "metadata": {},
   "outputs": [],
   "source": [
    "import numpy as np\n",
    "import pandas as pd"
   ]
  },
  {
   "cell_type": "code",
   "execution_count": 5,
   "id": "ff89f0f8-98f7-4c6a-b89a-b4fbbd21067a",
   "metadata": {},
   "outputs": [
    {
     "data": {
      "text/html": [
       "<div>\n",
       "<style scoped>\n",
       "    .dataframe tbody tr th:only-of-type {\n",
       "        vertical-align: middle;\n",
       "    }\n",
       "\n",
       "    .dataframe tbody tr th {\n",
       "        vertical-align: top;\n",
       "    }\n",
       "\n",
       "    .dataframe thead th {\n",
       "        text-align: right;\n",
       "    }\n",
       "</style>\n",
       "<table border=\"1\" class=\"dataframe\">\n",
       "  <thead>\n",
       "    <tr style=\"text-align: right;\">\n",
       "      <th></th>\n",
       "      <th>Date</th>\n",
       "      <th>Sales Rep</th>\n",
       "      <th>Customer Code</th>\n",
       "      <th>Sales</th>\n",
       "      <th>Profit</th>\n",
       "      <th>Region</th>\n",
       "    </tr>\n",
       "  </thead>\n",
       "  <tbody>\n",
       "    <tr>\n",
       "      <th>0</th>\n",
       "      <td>4-Jan-08</td>\n",
       "      <td>Abhay</td>\n",
       "      <td>CUSTN 1014</td>\n",
       "      <td>10600</td>\n",
       "      <td>4080</td>\n",
       "      <td>South</td>\n",
       "    </tr>\n",
       "    <tr>\n",
       "      <th>1</th>\n",
       "      <td>5-Jan-08</td>\n",
       "      <td>Jaspreet</td>\n",
       "      <td>CUSTN 1011</td>\n",
       "      <td>11250</td>\n",
       "      <td>4880</td>\n",
       "      <td>East</td>\n",
       "    </tr>\n",
       "    <tr>\n",
       "      <th>2</th>\n",
       "      <td>6-Jan-08</td>\n",
       "      <td>Abhay</td>\n",
       "      <td>CUSTN 1011</td>\n",
       "      <td>13050</td>\n",
       "      <td>2780</td>\n",
       "      <td>South</td>\n",
       "    </tr>\n",
       "    <tr>\n",
       "      <th>3</th>\n",
       "      <td>6-Jan-08</td>\n",
       "      <td>Varsha</td>\n",
       "      <td>CUSTN 1018</td>\n",
       "      <td>14950</td>\n",
       "      <td>5620</td>\n",
       "      <td>West</td>\n",
       "    </tr>\n",
       "    <tr>\n",
       "      <th>4</th>\n",
       "      <td>7-Jan-08</td>\n",
       "      <td>Bruce</td>\n",
       "      <td>CUSTN 1022</td>\n",
       "      <td>14200</td>\n",
       "      <td>5320</td>\n",
       "      <td>East</td>\n",
       "    </tr>\n",
       "    <tr>\n",
       "      <th>...</th>\n",
       "      <td>...</td>\n",
       "      <td>...</td>\n",
       "      <td>...</td>\n",
       "      <td>...</td>\n",
       "      <td>...</td>\n",
       "      <td>...</td>\n",
       "    </tr>\n",
       "    <tr>\n",
       "      <th>96</th>\n",
       "      <td>22-Jun-08</td>\n",
       "      <td>Veronica</td>\n",
       "      <td>CUSTN 1015</td>\n",
       "      <td>11050</td>\n",
       "      <td>3120</td>\n",
       "      <td>West</td>\n",
       "    </tr>\n",
       "    <tr>\n",
       "      <th>97</th>\n",
       "      <td>24-Jun-08</td>\n",
       "      <td>Anshika</td>\n",
       "      <td>CUSTN 1014</td>\n",
       "      <td>13050</td>\n",
       "      <td>4940</td>\n",
       "      <td>South</td>\n",
       "    </tr>\n",
       "    <tr>\n",
       "      <th>98</th>\n",
       "      <td>28-Jun-08</td>\n",
       "      <td>Rajat</td>\n",
       "      <td>CUSTN 1021</td>\n",
       "      <td>11650</td>\n",
       "      <td>3240</td>\n",
       "      <td>North</td>\n",
       "    </tr>\n",
       "    <tr>\n",
       "      <th>99</th>\n",
       "      <td>30-Jun-08</td>\n",
       "      <td>Bruce</td>\n",
       "      <td>CUSTN 1017</td>\n",
       "      <td>10150</td>\n",
       "      <td>2400</td>\n",
       "      <td>West</td>\n",
       "    </tr>\n",
       "    <tr>\n",
       "      <th>100</th>\n",
       "      <td>1-Jul-08</td>\n",
       "      <td>Varsha</td>\n",
       "      <td>CUSTN 1013</td>\n",
       "      <td>13150</td>\n",
       "      <td>4080</td>\n",
       "      <td>North</td>\n",
       "    </tr>\n",
       "  </tbody>\n",
       "</table>\n",
       "<p>101 rows × 6 columns</p>\n",
       "</div>"
      ],
      "text/plain": [
       "          Date Sales Rep Customer Code  Sales  Profit Region\n",
       "0     4-Jan-08     Abhay    CUSTN 1014  10600    4080  South\n",
       "1     5-Jan-08  Jaspreet    CUSTN 1011  11250    4880   East\n",
       "2     6-Jan-08     Abhay    CUSTN 1011  13050    2780  South\n",
       "3     6-Jan-08    Varsha    CUSTN 1018  14950    5620   West\n",
       "4     7-Jan-08     Bruce    CUSTN 1022  14200    5320   East\n",
       "..         ...       ...           ...    ...     ...    ...\n",
       "96   22-Jun-08  Veronica    CUSTN 1015  11050    3120   West\n",
       "97   24-Jun-08   Anshika    CUSTN 1014  13050    4940  South\n",
       "98   28-Jun-08     Rajat    CUSTN 1021  11650    3240  North\n",
       "99   30-Jun-08     Bruce    CUSTN 1017  10150    2400   West\n",
       "100   1-Jul-08    Varsha    CUSTN 1013  13150    4080  North\n",
       "\n",
       "[101 rows x 6 columns]"
      ]
     },
     "execution_count": 5,
     "metadata": {},
     "output_type": "execute_result"
    }
   ],
   "source": [
    "add=pd.read_csv(\"Additional.csv\")\n",
    "add"
   ]
  },
  {
   "cell_type": "code",
   "execution_count": 6,
   "id": "b7dd56af-87da-4c17-b847-4041aea08066",
   "metadata": {},
   "outputs": [
    {
     "name": "stdout",
     "output_type": "stream",
     "text": [
      "<class 'pandas.core.frame.DataFrame'>\n",
      "RangeIndex: 101 entries, 0 to 100\n",
      "Data columns (total 6 columns):\n",
      " #   Column         Non-Null Count  Dtype \n",
      "---  ------         --------------  ----- \n",
      " 0   Date           101 non-null    object\n",
      " 1   Sales Rep      101 non-null    object\n",
      " 2   Customer Code  101 non-null    object\n",
      " 3   Sales          101 non-null    int64 \n",
      " 4   Profit         101 non-null    int64 \n",
      " 5   Region         101 non-null    object\n",
      "dtypes: int64(2), object(4)\n",
      "memory usage: 4.9+ KB\n"
     ]
    }
   ],
   "source": [
    "add.info()"
   ]
  },
  {
   "cell_type": "code",
   "execution_count": 7,
   "id": "6a50b422-20a2-4ac4-8ddb-bb11466c5e5d",
   "metadata": {},
   "outputs": [
    {
     "data": {
      "text/plain": [
       "Date             False\n",
       "Sales Rep        False\n",
       "Customer Code    False\n",
       "Sales            False\n",
       "Profit           False\n",
       "Region           False\n",
       "dtype: bool"
      ]
     },
     "execution_count": 7,
     "metadata": {},
     "output_type": "execute_result"
    }
   ],
   "source": [
    "add.isnull().any()"
   ]
  },
  {
   "cell_type": "code",
   "execution_count": 8,
   "id": "76c57908-b405-47a0-90b5-5528f63c1b5a",
   "metadata": {},
   "outputs": [
    {
     "data": {
      "text/plain": [
       "Date             0\n",
       "Sales Rep        0\n",
       "Customer Code    0\n",
       "Sales            0\n",
       "Profit           0\n",
       "Region           0\n",
       "dtype: int64"
      ]
     },
     "execution_count": 8,
     "metadata": {},
     "output_type": "execute_result"
    }
   ],
   "source": [
    "add.isnull().sum()"
   ]
  },
  {
   "cell_type": "code",
   "execution_count": 9,
   "id": "5a7ef52b-f738-44cd-b363-5a2e8ee18550",
   "metadata": {},
   "outputs": [
    {
     "data": {
      "text/html": [
       "<div>\n",
       "<style scoped>\n",
       "    .dataframe tbody tr th:only-of-type {\n",
       "        vertical-align: middle;\n",
       "    }\n",
       "\n",
       "    .dataframe tbody tr th {\n",
       "        vertical-align: top;\n",
       "    }\n",
       "\n",
       "    .dataframe thead th {\n",
       "        text-align: right;\n",
       "    }\n",
       "</style>\n",
       "<table border=\"1\" class=\"dataframe\">\n",
       "  <thead>\n",
       "    <tr style=\"text-align: right;\">\n",
       "      <th></th>\n",
       "      <th>Sales</th>\n",
       "      <th>Profit</th>\n",
       "    </tr>\n",
       "  </thead>\n",
       "  <tbody>\n",
       "    <tr>\n",
       "      <th>count</th>\n",
       "      <td>101.000000</td>\n",
       "      <td>101.000000</td>\n",
       "    </tr>\n",
       "    <tr>\n",
       "      <th>mean</th>\n",
       "      <td>12583.168317</td>\n",
       "      <td>3842.376238</td>\n",
       "    </tr>\n",
       "    <tr>\n",
       "      <th>std</th>\n",
       "      <td>1414.571971</td>\n",
       "      <td>1186.559015</td>\n",
       "    </tr>\n",
       "    <tr>\n",
       "      <th>min</th>\n",
       "      <td>10100.000000</td>\n",
       "      <td>2000.000000</td>\n",
       "    </tr>\n",
       "    <tr>\n",
       "      <th>25%</th>\n",
       "      <td>11650.000000</td>\n",
       "      <td>2800.000000</td>\n",
       "    </tr>\n",
       "    <tr>\n",
       "      <th>50%</th>\n",
       "      <td>12450.000000</td>\n",
       "      <td>3720.000000</td>\n",
       "    </tr>\n",
       "    <tr>\n",
       "      <th>75%</th>\n",
       "      <td>13750.000000</td>\n",
       "      <td>4940.000000</td>\n",
       "    </tr>\n",
       "    <tr>\n",
       "      <th>max</th>\n",
       "      <td>15000.000000</td>\n",
       "      <td>5800.000000</td>\n",
       "    </tr>\n",
       "  </tbody>\n",
       "</table>\n",
       "</div>"
      ],
      "text/plain": [
       "              Sales       Profit\n",
       "count    101.000000   101.000000\n",
       "mean   12583.168317  3842.376238\n",
       "std     1414.571971  1186.559015\n",
       "min    10100.000000  2000.000000\n",
       "25%    11650.000000  2800.000000\n",
       "50%    12450.000000  3720.000000\n",
       "75%    13750.000000  4940.000000\n",
       "max    15000.000000  5800.000000"
      ]
     },
     "execution_count": 9,
     "metadata": {},
     "output_type": "execute_result"
    }
   ],
   "source": [
    "add.describe()"
   ]
  },
  {
   "cell_type": "code",
   "execution_count": 10,
   "id": "bbcc4720-14d2-4ba5-8764-61ec2e983915",
   "metadata": {},
   "outputs": [
    {
     "data": {
      "text/plain": [
       "(101, 6)"
      ]
     },
     "execution_count": 10,
     "metadata": {},
     "output_type": "execute_result"
    }
   ],
   "source": [
    "add.shape"
   ]
  },
  {
   "cell_type": "code",
   "execution_count": 11,
   "id": "50507dc6-0d5d-4406-a580-222c5c014332",
   "metadata": {},
   "outputs": [
    {
     "data": {
      "text/plain": [
       "606"
      ]
     },
     "execution_count": 11,
     "metadata": {},
     "output_type": "execute_result"
    }
   ],
   "source": [
    "add.size"
   ]
  },
  {
   "cell_type": "code",
   "execution_count": 12,
   "id": "65d385d4-a361-44b7-a086-65beeef3b876",
   "metadata": {},
   "outputs": [
    {
     "data": {
      "text/plain": [
       "2"
      ]
     },
     "execution_count": 12,
     "metadata": {},
     "output_type": "execute_result"
    }
   ],
   "source": [
    "add.ndim"
   ]
  },
  {
   "cell_type": "code",
   "execution_count": 13,
   "id": "f65cd9fc-e62d-47a6-a6af-e742cb6e59cd",
   "metadata": {},
   "outputs": [
    {
     "data": {
      "text/plain": [
       "[1, 2, 3, 4, 5, 6]"
      ]
     },
     "execution_count": 13,
     "metadata": {},
     "output_type": "execute_result"
    }
   ],
   "source": [
    "lst=[1,2,3,4,5,6]\n",
    "lst"
   ]
  },
  {
   "cell_type": "code",
   "execution_count": 14,
   "id": "d8de9cea-4161-42cf-a3d7-fb5b448b263f",
   "metadata": {},
   "outputs": [
    {
     "data": {
      "text/plain": [
       "array([1, 2, 3, 4, 5, 6])"
      ]
     },
     "execution_count": 14,
     "metadata": {},
     "output_type": "execute_result"
    }
   ],
   "source": [
    "arr=np.array(lst)\n",
    "arr"
   ]
  },
  {
   "cell_type": "code",
   "execution_count": 15,
   "id": "b1c77c22-20fb-4fce-952d-858d9ccbe2ea",
   "metadata": {},
   "outputs": [
    {
     "data": {
      "text/plain": [
       "array([[1, 2, 3],\n",
       "       [4, 5, 6]])"
      ]
     },
     "execution_count": 15,
     "metadata": {},
     "output_type": "execute_result"
    }
   ],
   "source": [
    "arr1=arr.reshape(2,3)\n",
    "arr1"
   ]
  },
  {
   "cell_type": "code",
   "execution_count": 16,
   "id": "2a8d0736-6d8a-4f30-ab00-21e4334d81e9",
   "metadata": {},
   "outputs": [
    {
     "data": {
      "text/plain": [
       "array([0, 2, 4, 6, 8])"
      ]
     },
     "execution_count": 16,
     "metadata": {},
     "output_type": "execute_result"
    }
   ],
   "source": [
    "arr2=np.arange(0,10,2)\n",
    "arr2"
   ]
  },
  {
   "cell_type": "code",
   "execution_count": 17,
   "id": "bd50b31c-c747-4e32-8acc-c175111addbf",
   "metadata": {},
   "outputs": [
    {
     "data": {
      "text/plain": [
       "array([[0, 1, 2, 2, 2, 3, 4, 5, 6, 9]])"
      ]
     },
     "execution_count": 17,
     "metadata": {},
     "output_type": "execute_result"
    }
   ],
   "source": [
    "arr3=np.array([[1,2,2,3,5,6,2,0,9,4]])\n",
    "arr4=np.sort(arr3)\n",
    "arr4"
   ]
  },
  {
   "cell_type": "code",
   "execution_count": 18,
   "id": "57dadd2d-b23e-4ba4-97d5-5a603b6dedfc",
   "metadata": {},
   "outputs": [
    {
     "data": {
      "text/plain": [
       "array([0, 1, 2, 3, 4, 5, 6, 9])"
      ]
     },
     "execution_count": 18,
     "metadata": {},
     "output_type": "execute_result"
    }
   ],
   "source": [
    "arr4=np.unique(arr3)\n",
    "arr4"
   ]
  },
  {
   "cell_type": "code",
   "execution_count": 19,
   "id": "5765e5dd-5b53-4634-ad7a-e1bf4d2a240a",
   "metadata": {},
   "outputs": [
    {
     "data": {
      "text/plain": [
       "[array([[1, 2]]),\n",
       " array([[2, 3]]),\n",
       " array([[5, 6]]),\n",
       " array([[2, 0]]),\n",
       " array([[9, 4]])]"
      ]
     },
     "execution_count": 19,
     "metadata": {},
     "output_type": "execute_result"
    }
   ],
   "source": [
    "arr4=np.hsplit(arr3,5)\n",
    "arr4"
   ]
  },
  {
   "cell_type": "code",
   "execution_count": 20,
   "id": "12d1f388-40b7-4525-9a0f-e6f5625f17f4",
   "metadata": {},
   "outputs": [
    {
     "data": {
      "text/plain": [
       "[array([[1, 2, 2, 3, 5, 6, 2, 0, 9, 4]])]"
      ]
     },
     "execution_count": 20,
     "metadata": {},
     "output_type": "execute_result"
    }
   ],
   "source": [
    "arr5=np.vsplit(arr3,1)\n",
    "arr5"
   ]
  },
  {
   "cell_type": "code",
   "execution_count": 21,
   "id": "6985719d-b41a-4990-83c5-0120a6ac239c",
   "metadata": {},
   "outputs": [
    {
     "data": {
      "text/plain": [
       "array([[1, 2, 2, 3, 5, 6, 2, 0, 9, 4],\n",
       "       [1, 2, 2, 3, 5, 6, 2, 0, 9, 4]])"
      ]
     },
     "execution_count": 21,
     "metadata": {},
     "output_type": "execute_result"
    }
   ],
   "source": [
    "arr6=np.vstack((arr3,arr3))\n",
    "arr6"
   ]
  },
  {
   "cell_type": "code",
   "execution_count": 22,
   "id": "d665fb4e-f2e2-428c-a6e7-a7d930ad3017",
   "metadata": {},
   "outputs": [
    {
     "data": {
      "text/plain": [
       "array([[1, 2, 2, 3, 5, 6, 2, 0, 9, 4, 1, 2, 2, 3, 5, 6, 2, 0, 9, 4]])"
      ]
     },
     "execution_count": 22,
     "metadata": {},
     "output_type": "execute_result"
    }
   ],
   "source": [
    "arr6=np.hstack((arr3,arr3))\n",
    "arr6"
   ]
  },
  {
   "cell_type": "code",
   "execution_count": 23,
   "id": "ab05f758-8897-488f-8149-603f256a5d83",
   "metadata": {},
   "outputs": [
    {
     "data": {
      "text/plain": [
       "array([[1],\n",
       "       [2],\n",
       "       [2],\n",
       "       [3],\n",
       "       [5],\n",
       "       [6],\n",
       "       [2],\n",
       "       [0],\n",
       "       [9],\n",
       "       [4]])"
      ]
     },
     "execution_count": 23,
     "metadata": {},
     "output_type": "execute_result"
    }
   ],
   "source": [
    "arr7=np.transpose(arr3)\n",
    "arr7"
   ]
  },
  {
   "cell_type": "code",
   "execution_count": 24,
   "id": "46fa9479-f774-41d2-9253-bc4d46f8f2c0",
   "metadata": {},
   "outputs": [
    {
     "data": {
      "text/plain": [
       "array([[4, 9, 0, 2, 6, 5, 3, 2, 2, 1]])"
      ]
     },
     "execution_count": 24,
     "metadata": {},
     "output_type": "execute_result"
    }
   ],
   "source": [
    "arr8=np.flip(arr3)\n",
    "arr8"
   ]
  },
  {
   "cell_type": "code",
   "execution_count": 25,
   "id": "cbb336fa-82a1-4213-9021-6251650b7e46",
   "metadata": {},
   "outputs": [
    {
     "data": {
      "text/plain": [
       "array([1, 2, 2, 3, 5, 6, 2, 0, 9, 4])"
      ]
     },
     "execution_count": 25,
     "metadata": {},
     "output_type": "execute_result"
    }
   ],
   "source": [
    "arr3.flatten()"
   ]
  },
  {
   "cell_type": "code",
   "execution_count": 26,
   "id": "61fe4370-dd68-4332-9296-6aeaf13b7699",
   "metadata": {},
   "outputs": [
    {
     "data": {
      "text/plain": [
       "array([1, 2, 2, 3, 5, 6, 2, 0, 9, 4])"
      ]
     },
     "execution_count": 26,
     "metadata": {},
     "output_type": "execute_result"
    }
   ],
   "source": [
    "arr3.ravel()"
   ]
  },
  {
   "cell_type": "code",
   "execution_count": 27,
   "id": "8696c998-9d3f-4b3e-9b8d-15899c77e7da",
   "metadata": {},
   "outputs": [],
   "source": [
    "from numpy import random"
   ]
  },
  {
   "cell_type": "code",
   "execution_count": 28,
   "id": "f3e7ffb7-32fa-47f9-9177-f5b09cbd560a",
   "metadata": {},
   "outputs": [
    {
     "data": {
      "text/plain": [
       "array([[4, 9],\n",
       "       [6, 0]])"
      ]
     },
     "execution_count": 28,
     "metadata": {},
     "output_type": "execute_result"
    }
   ],
   "source": [
    "arr9=np.random.randint(10,size=(2,2))\n",
    "arr9"
   ]
  },
  {
   "cell_type": "code",
   "execution_count": 29,
   "id": "38363886-b08e-4f2e-ab6c-2a988be18c37",
   "metadata": {},
   "outputs": [
    {
     "data": {
      "text/plain": [
       "array([0.13131241, 0.85982281, 0.66042143, 0.73130589, 0.48793223,\n",
       "       0.56380289, 0.26864069, 0.16018712, 0.61635307, 0.29136123])"
      ]
     },
     "execution_count": 29,
     "metadata": {},
     "output_type": "execute_result"
    }
   ],
   "source": [
    "arr9=np.random.rand(10)\n",
    "arr9"
   ]
  },
  {
   "cell_type": "code",
   "execution_count": 30,
   "id": "fe02a805-64af-417b-96e0-45bb67002460",
   "metadata": {},
   "outputs": [
    {
     "data": {
      "text/plain": [
       "array([2, 4, 1, 3, 5])"
      ]
     },
     "execution_count": 30,
     "metadata": {},
     "output_type": "execute_result"
    }
   ],
   "source": [
    "arr=np.array([1,2,4,5,3])\n",
    "arr=np.random.permutation(arr)\n",
    "arr"
   ]
  },
  {
   "cell_type": "code",
   "execution_count": 31,
   "id": "781ae663-6d4e-4f49-9b79-780b73683826",
   "metadata": {},
   "outputs": [
    {
     "data": {
      "text/plain": [
       "array([[1, 2, 2, 3, 5, 6, 2, 0, 9, 4]])"
      ]
     },
     "execution_count": 31,
     "metadata": {},
     "output_type": "execute_result"
    }
   ],
   "source": [
    "arr=np.random.shuffle(arr3)\n",
    "arr3"
   ]
  },
  {
   "cell_type": "code",
   "execution_count": 32,
   "id": "a39e5760-006f-4917-bcb5-82ac03d4726c",
   "metadata": {},
   "outputs": [
    {
     "data": {
      "text/plain": [
       "80"
      ]
     },
     "execution_count": 32,
     "metadata": {},
     "output_type": "execute_result"
    }
   ],
   "source": [
    "arr1=np.array([1,2,3,4])\n",
    "arr2=np.array([6,7,8,9])\n",
    "arr3=np.dot(arr1,arr2)\n",
    "arr3"
   ]
  },
  {
   "cell_type": "code",
   "execution_count": 33,
   "id": "aab1662e-dce5-4d49-9eda-f7a748777a8e",
   "metadata": {},
   "outputs": [
    {
     "data": {
      "text/plain": [
       "array([80])"
      ]
     },
     "execution_count": 33,
     "metadata": {},
     "output_type": "execute_result"
    }
   ],
   "source": [
    "arr5=arr3[np.newaxis]\n",
    "arr5"
   ]
  },
  {
   "cell_type": "code",
   "execution_count": 34,
   "id": "bd5726d9-ca77-4b3e-a9e3-a33b34e51831",
   "metadata": {},
   "outputs": [
    {
     "data": {
      "text/plain": [
       "[[6, 2, 3, 4], [1, 22, 10, 0]]"
      ]
     },
     "execution_count": 34,
     "metadata": {},
     "output_type": "execute_result"
    }
   ],
   "source": [
    "ar=([[6,2,3,4],[1,22,10,0]])\n",
    "ar"
   ]
  },
  {
   "cell_type": "code",
   "execution_count": 37,
   "id": "fb5ea3e8-3f82-4814-9c76-7d5a5b25398f",
   "metadata": {},
   "outputs": [
    {
     "data": {
      "text/html": [
       "<div>\n",
       "<style scoped>\n",
       "    .dataframe tbody tr th:only-of-type {\n",
       "        vertical-align: middle;\n",
       "    }\n",
       "\n",
       "    .dataframe tbody tr th {\n",
       "        vertical-align: top;\n",
       "    }\n",
       "\n",
       "    .dataframe thead th {\n",
       "        text-align: right;\n",
       "    }\n",
       "</style>\n",
       "<table border=\"1\" class=\"dataframe\">\n",
       "  <thead>\n",
       "    <tr style=\"text-align: right;\">\n",
       "      <th></th>\n",
       "      <th>Date</th>\n",
       "      <th>Sales Rep</th>\n",
       "      <th>Customer Code</th>\n",
       "      <th>Sales</th>\n",
       "      <th>Profit</th>\n",
       "      <th>Region</th>\n",
       "    </tr>\n",
       "  </thead>\n",
       "  <tbody>\n",
       "    <tr>\n",
       "      <th>0</th>\n",
       "      <td>4-Jan-08</td>\n",
       "      <td>Abhay</td>\n",
       "      <td>CUSTN 1014</td>\n",
       "      <td>10600</td>\n",
       "      <td>4080</td>\n",
       "      <td>South</td>\n",
       "    </tr>\n",
       "    <tr>\n",
       "      <th>1</th>\n",
       "      <td>5-Jan-08</td>\n",
       "      <td>Jaspreet</td>\n",
       "      <td>CUSTN 1011</td>\n",
       "      <td>11250</td>\n",
       "      <td>4880</td>\n",
       "      <td>East</td>\n",
       "    </tr>\n",
       "    <tr>\n",
       "      <th>2</th>\n",
       "      <td>6-Jan-08</td>\n",
       "      <td>Abhay</td>\n",
       "      <td>CUSTN 1011</td>\n",
       "      <td>13050</td>\n",
       "      <td>2780</td>\n",
       "      <td>South</td>\n",
       "    </tr>\n",
       "    <tr>\n",
       "      <th>3</th>\n",
       "      <td>6-Jan-08</td>\n",
       "      <td>Varsha</td>\n",
       "      <td>CUSTN 1018</td>\n",
       "      <td>14950</td>\n",
       "      <td>5620</td>\n",
       "      <td>West</td>\n",
       "    </tr>\n",
       "    <tr>\n",
       "      <th>4</th>\n",
       "      <td>7-Jan-08</td>\n",
       "      <td>Bruce</td>\n",
       "      <td>CUSTN 1022</td>\n",
       "      <td>14200</td>\n",
       "      <td>5320</td>\n",
       "      <td>East</td>\n",
       "    </tr>\n",
       "  </tbody>\n",
       "</table>\n",
       "</div>"
      ],
      "text/plain": [
       "       Date Sales Rep Customer Code  Sales  Profit Region\n",
       "0  4-Jan-08     Abhay    CUSTN 1014  10600    4080  South\n",
       "1  5-Jan-08  Jaspreet    CUSTN 1011  11250    4880   East\n",
       "2  6-Jan-08     Abhay    CUSTN 1011  13050    2780  South\n",
       "3  6-Jan-08    Varsha    CUSTN 1018  14950    5620   West\n",
       "4  7-Jan-08     Bruce    CUSTN 1022  14200    5320   East"
      ]
     },
     "execution_count": 37,
     "metadata": {},
     "output_type": "execute_result"
    }
   ],
   "source": [
    "add.head()"
   ]
  },
  {
   "cell_type": "code",
   "execution_count": 74,
   "id": "4260f238-ac34-4941-b5c9-f45278a7929f",
   "metadata": {},
   "outputs": [],
   "source": [
    "add.drop([\"Date\"],axis=1,inplace=True)"
   ]
  },
  {
   "cell_type": "code",
   "execution_count": 76,
   "id": "3af121c0-5665-4550-a07b-face7e2f630e",
   "metadata": {},
   "outputs": [
    {
     "data": {
      "text/html": [
       "<div>\n",
       "<style scoped>\n",
       "    .dataframe tbody tr th:only-of-type {\n",
       "        vertical-align: middle;\n",
       "    }\n",
       "\n",
       "    .dataframe tbody tr th {\n",
       "        vertical-align: top;\n",
       "    }\n",
       "\n",
       "    .dataframe thead th {\n",
       "        text-align: right;\n",
       "    }\n",
       "</style>\n",
       "<table border=\"1\" class=\"dataframe\">\n",
       "  <thead>\n",
       "    <tr style=\"text-align: right;\">\n",
       "      <th></th>\n",
       "      <th>Sales Rep</th>\n",
       "      <th>Customer Code</th>\n",
       "      <th>Sales</th>\n",
       "      <th>Profit</th>\n",
       "      <th>Region</th>\n",
       "    </tr>\n",
       "  </thead>\n",
       "  <tbody>\n",
       "    <tr>\n",
       "      <th>0</th>\n",
       "      <td>Abhay</td>\n",
       "      <td>CUSTN 1014</td>\n",
       "      <td>10600</td>\n",
       "      <td>4080</td>\n",
       "      <td>South</td>\n",
       "    </tr>\n",
       "    <tr>\n",
       "      <th>1</th>\n",
       "      <td>Jaspreet</td>\n",
       "      <td>CUSTN 1011</td>\n",
       "      <td>11250</td>\n",
       "      <td>4880</td>\n",
       "      <td>East</td>\n",
       "    </tr>\n",
       "    <tr>\n",
       "      <th>2</th>\n",
       "      <td>Abhay</td>\n",
       "      <td>CUSTN 1011</td>\n",
       "      <td>13050</td>\n",
       "      <td>2780</td>\n",
       "      <td>South</td>\n",
       "    </tr>\n",
       "    <tr>\n",
       "      <th>3</th>\n",
       "      <td>Varsha</td>\n",
       "      <td>CUSTN 1018</td>\n",
       "      <td>14950</td>\n",
       "      <td>5620</td>\n",
       "      <td>West</td>\n",
       "    </tr>\n",
       "    <tr>\n",
       "      <th>4</th>\n",
       "      <td>Bruce</td>\n",
       "      <td>CUSTN 1022</td>\n",
       "      <td>14200</td>\n",
       "      <td>5320</td>\n",
       "      <td>East</td>\n",
       "    </tr>\n",
       "    <tr>\n",
       "      <th>...</th>\n",
       "      <td>...</td>\n",
       "      <td>...</td>\n",
       "      <td>...</td>\n",
       "      <td>...</td>\n",
       "      <td>...</td>\n",
       "    </tr>\n",
       "    <tr>\n",
       "      <th>96</th>\n",
       "      <td>Veronica</td>\n",
       "      <td>CUSTN 1015</td>\n",
       "      <td>11050</td>\n",
       "      <td>3120</td>\n",
       "      <td>West</td>\n",
       "    </tr>\n",
       "    <tr>\n",
       "      <th>97</th>\n",
       "      <td>Anshika</td>\n",
       "      <td>CUSTN 1014</td>\n",
       "      <td>13050</td>\n",
       "      <td>4940</td>\n",
       "      <td>South</td>\n",
       "    </tr>\n",
       "    <tr>\n",
       "      <th>98</th>\n",
       "      <td>Rajat</td>\n",
       "      <td>CUSTN 1021</td>\n",
       "      <td>11650</td>\n",
       "      <td>3240</td>\n",
       "      <td>North</td>\n",
       "    </tr>\n",
       "    <tr>\n",
       "      <th>99</th>\n",
       "      <td>Bruce</td>\n",
       "      <td>CUSTN 1017</td>\n",
       "      <td>10150</td>\n",
       "      <td>2400</td>\n",
       "      <td>West</td>\n",
       "    </tr>\n",
       "    <tr>\n",
       "      <th>100</th>\n",
       "      <td>Varsha</td>\n",
       "      <td>CUSTN 1013</td>\n",
       "      <td>13150</td>\n",
       "      <td>4080</td>\n",
       "      <td>North</td>\n",
       "    </tr>\n",
       "  </tbody>\n",
       "</table>\n",
       "<p>101 rows × 5 columns</p>\n",
       "</div>"
      ],
      "text/plain": [
       "    Sales Rep Customer Code  Sales  Profit Region\n",
       "0       Abhay    CUSTN 1014  10600    4080  South\n",
       "1    Jaspreet    CUSTN 1011  11250    4880   East\n",
       "2       Abhay    CUSTN 1011  13050    2780  South\n",
       "3      Varsha    CUSTN 1018  14950    5620   West\n",
       "4       Bruce    CUSTN 1022  14200    5320   East\n",
       "..        ...           ...    ...     ...    ...\n",
       "96   Veronica    CUSTN 1015  11050    3120   West\n",
       "97    Anshika    CUSTN 1014  13050    4940  South\n",
       "98      Rajat    CUSTN 1021  11650    3240  North\n",
       "99      Bruce    CUSTN 1017  10150    2400   West\n",
       "100    Varsha    CUSTN 1013  13150    4080  North\n",
       "\n",
       "[101 rows x 5 columns]"
      ]
     },
     "execution_count": 76,
     "metadata": {},
     "output_type": "execute_result"
    }
   ],
   "source": [
    "add"
   ]
  },
  {
   "cell_type": "code",
   "execution_count": 78,
   "id": "8c7b2ef0-ef8e-4458-a650-08acb0b7e941",
   "metadata": {},
   "outputs": [],
   "source": [
    "add.drop(add.index[1:4],axis=0,inplace=True)"
   ]
  },
  {
   "cell_type": "code",
   "execution_count": 80,
   "id": "17829788-78be-4977-a669-ba61e8afdc73",
   "metadata": {},
   "outputs": [
    {
     "data": {
      "text/html": [
       "<div>\n",
       "<style scoped>\n",
       "    .dataframe tbody tr th:only-of-type {\n",
       "        vertical-align: middle;\n",
       "    }\n",
       "\n",
       "    .dataframe tbody tr th {\n",
       "        vertical-align: top;\n",
       "    }\n",
       "\n",
       "    .dataframe thead th {\n",
       "        text-align: right;\n",
       "    }\n",
       "</style>\n",
       "<table border=\"1\" class=\"dataframe\">\n",
       "  <thead>\n",
       "    <tr style=\"text-align: right;\">\n",
       "      <th></th>\n",
       "      <th>Sales Rep</th>\n",
       "      <th>Customer Code</th>\n",
       "      <th>Sales</th>\n",
       "      <th>Profit</th>\n",
       "      <th>Region</th>\n",
       "    </tr>\n",
       "  </thead>\n",
       "  <tbody>\n",
       "    <tr>\n",
       "      <th>0</th>\n",
       "      <td>Abhay</td>\n",
       "      <td>CUSTN 1014</td>\n",
       "      <td>10600</td>\n",
       "      <td>4080</td>\n",
       "      <td>South</td>\n",
       "    </tr>\n",
       "    <tr>\n",
       "      <th>4</th>\n",
       "      <td>Bruce</td>\n",
       "      <td>CUSTN 1022</td>\n",
       "      <td>14200</td>\n",
       "      <td>5320</td>\n",
       "      <td>East</td>\n",
       "    </tr>\n",
       "    <tr>\n",
       "      <th>5</th>\n",
       "      <td>Abhay</td>\n",
       "      <td>CUSTN 1011</td>\n",
       "      <td>10900</td>\n",
       "      <td>3380</td>\n",
       "      <td>East</td>\n",
       "    </tr>\n",
       "    <tr>\n",
       "      <th>6</th>\n",
       "      <td>Jaspreet</td>\n",
       "      <td>CUSTN 1015</td>\n",
       "      <td>10200</td>\n",
       "      <td>4420</td>\n",
       "      <td>East</td>\n",
       "    </tr>\n",
       "    <tr>\n",
       "      <th>7</th>\n",
       "      <td>Veronica</td>\n",
       "      <td>CUSTN 1011</td>\n",
       "      <td>10100</td>\n",
       "      <td>2720</td>\n",
       "      <td>North</td>\n",
       "    </tr>\n",
       "    <tr>\n",
       "      <th>...</th>\n",
       "      <td>...</td>\n",
       "      <td>...</td>\n",
       "      <td>...</td>\n",
       "      <td>...</td>\n",
       "      <td>...</td>\n",
       "    </tr>\n",
       "    <tr>\n",
       "      <th>96</th>\n",
       "      <td>Veronica</td>\n",
       "      <td>CUSTN 1015</td>\n",
       "      <td>11050</td>\n",
       "      <td>3120</td>\n",
       "      <td>West</td>\n",
       "    </tr>\n",
       "    <tr>\n",
       "      <th>97</th>\n",
       "      <td>Anshika</td>\n",
       "      <td>CUSTN 1014</td>\n",
       "      <td>13050</td>\n",
       "      <td>4940</td>\n",
       "      <td>South</td>\n",
       "    </tr>\n",
       "    <tr>\n",
       "      <th>98</th>\n",
       "      <td>Rajat</td>\n",
       "      <td>CUSTN 1021</td>\n",
       "      <td>11650</td>\n",
       "      <td>3240</td>\n",
       "      <td>North</td>\n",
       "    </tr>\n",
       "    <tr>\n",
       "      <th>99</th>\n",
       "      <td>Bruce</td>\n",
       "      <td>CUSTN 1017</td>\n",
       "      <td>10150</td>\n",
       "      <td>2400</td>\n",
       "      <td>West</td>\n",
       "    </tr>\n",
       "    <tr>\n",
       "      <th>100</th>\n",
       "      <td>Varsha</td>\n",
       "      <td>CUSTN 1013</td>\n",
       "      <td>13150</td>\n",
       "      <td>4080</td>\n",
       "      <td>North</td>\n",
       "    </tr>\n",
       "  </tbody>\n",
       "</table>\n",
       "<p>98 rows × 5 columns</p>\n",
       "</div>"
      ],
      "text/plain": [
       "    Sales Rep Customer Code  Sales  Profit Region\n",
       "0       Abhay    CUSTN 1014  10600    4080  South\n",
       "4       Bruce    CUSTN 1022  14200    5320   East\n",
       "5       Abhay    CUSTN 1011  10900    3380   East\n",
       "6    Jaspreet    CUSTN 1015  10200    4420   East\n",
       "7    Veronica    CUSTN 1011  10100    2720  North\n",
       "..        ...           ...    ...     ...    ...\n",
       "96   Veronica    CUSTN 1015  11050    3120   West\n",
       "97    Anshika    CUSTN 1014  13050    4940  South\n",
       "98      Rajat    CUSTN 1021  11650    3240  North\n",
       "99      Bruce    CUSTN 1017  10150    2400   West\n",
       "100    Varsha    CUSTN 1013  13150    4080  North\n",
       "\n",
       "[98 rows x 5 columns]"
      ]
     },
     "execution_count": 80,
     "metadata": {},
     "output_type": "execute_result"
    }
   ],
   "source": [
    "add"
   ]
  },
  {
   "cell_type": "code",
   "execution_count": 82,
   "id": "0a8d7b76-a9fa-4944-8619-66bd034db88b",
   "metadata": {},
   "outputs": [
    {
     "data": {
      "text/html": [
       "<div>\n",
       "<style scoped>\n",
       "    .dataframe tbody tr th:only-of-type {\n",
       "        vertical-align: middle;\n",
       "    }\n",
       "\n",
       "    .dataframe tbody tr th {\n",
       "        vertical-align: top;\n",
       "    }\n",
       "\n",
       "    .dataframe thead th {\n",
       "        text-align: right;\n",
       "    }\n",
       "</style>\n",
       "<table border=\"1\" class=\"dataframe\">\n",
       "  <thead>\n",
       "    <tr style=\"text-align: right;\">\n",
       "      <th></th>\n",
       "      <th>Date</th>\n",
       "      <th>Sales Rep</th>\n",
       "      <th>Customer Code</th>\n",
       "      <th>Sales</th>\n",
       "      <th>Profit</th>\n",
       "      <th>Region</th>\n",
       "    </tr>\n",
       "  </thead>\n",
       "  <tbody>\n",
       "    <tr>\n",
       "      <th>0</th>\n",
       "      <td>30-May-05</td>\n",
       "      <td>Mark</td>\n",
       "      <td>CUSTN 1019</td>\n",
       "      <td>14900</td>\n",
       "      <td>5480</td>\n",
       "      <td>North</td>\n",
       "    </tr>\n",
       "    <tr>\n",
       "      <th>1</th>\n",
       "      <td>31-May-05</td>\n",
       "      <td>Rajat</td>\n",
       "      <td>CUSTN 1011</td>\n",
       "      <td>12400</td>\n",
       "      <td>2540</td>\n",
       "      <td>South</td>\n",
       "    </tr>\n",
       "    <tr>\n",
       "      <th>2</th>\n",
       "      <td>5-Jun-05</td>\n",
       "      <td>Rajat</td>\n",
       "      <td>CUSTN 1012</td>\n",
       "      <td>14150</td>\n",
       "      <td>4540</td>\n",
       "      <td>South</td>\n",
       "    </tr>\n",
       "    <tr>\n",
       "      <th>3</th>\n",
       "      <td>7-Jun-05</td>\n",
       "      <td>Abhay</td>\n",
       "      <td>CUSTN 1016</td>\n",
       "      <td>11100</td>\n",
       "      <td>3780</td>\n",
       "      <td>South</td>\n",
       "    </tr>\n",
       "    <tr>\n",
       "      <th>4</th>\n",
       "      <td>9-Jun-05</td>\n",
       "      <td>Rajat</td>\n",
       "      <td>CUSTN 1018</td>\n",
       "      <td>12650</td>\n",
       "      <td>3960</td>\n",
       "      <td>East</td>\n",
       "    </tr>\n",
       "    <tr>\n",
       "      <th>...</th>\n",
       "      <td>...</td>\n",
       "      <td>...</td>\n",
       "      <td>...</td>\n",
       "      <td>...</td>\n",
       "      <td>...</td>\n",
       "      <td>...</td>\n",
       "    </tr>\n",
       "    <tr>\n",
       "      <th>484</th>\n",
       "      <td>20-Dec-07</td>\n",
       "      <td>Charley</td>\n",
       "      <td>CUSTN 1013</td>\n",
       "      <td>10450</td>\n",
       "      <td>4600</td>\n",
       "      <td>West</td>\n",
       "    </tr>\n",
       "    <tr>\n",
       "      <th>485</th>\n",
       "      <td>25-Dec-07</td>\n",
       "      <td>Charley</td>\n",
       "      <td>CUSTN 1018</td>\n",
       "      <td>10400</td>\n",
       "      <td>2940</td>\n",
       "      <td>South</td>\n",
       "    </tr>\n",
       "    <tr>\n",
       "      <th>486</th>\n",
       "      <td>25-Dec-07</td>\n",
       "      <td>Veronica</td>\n",
       "      <td>CUSTN 1022</td>\n",
       "      <td>12350</td>\n",
       "      <td>2620</td>\n",
       "      <td>North</td>\n",
       "    </tr>\n",
       "    <tr>\n",
       "      <th>487</th>\n",
       "      <td>27-Dec-07</td>\n",
       "      <td>Charley</td>\n",
       "      <td>CUSTN 1013</td>\n",
       "      <td>13800</td>\n",
       "      <td>4880</td>\n",
       "      <td>North</td>\n",
       "    </tr>\n",
       "    <tr>\n",
       "      <th>488</th>\n",
       "      <td>27-Dec-07</td>\n",
       "      <td>Bruce</td>\n",
       "      <td>CUSTN 1014</td>\n",
       "      <td>11200</td>\n",
       "      <td>5640</td>\n",
       "      <td>East</td>\n",
       "    </tr>\n",
       "  </tbody>\n",
       "</table>\n",
       "<p>489 rows × 6 columns</p>\n",
       "</div>"
      ],
      "text/plain": [
       "          Date Sales Rep Customer Code  Sales  Profit Region\n",
       "0    30-May-05      Mark    CUSTN 1019  14900    5480  North\n",
       "1    31-May-05     Rajat    CUSTN 1011  12400    2540  South\n",
       "2     5-Jun-05     Rajat    CUSTN 1012  14150    4540  South\n",
       "3     7-Jun-05     Abhay    CUSTN 1016  11100    3780  South\n",
       "4     9-Jun-05     Rajat    CUSTN 1018  12650    3960   East\n",
       "..         ...       ...           ...    ...     ...    ...\n",
       "484  20-Dec-07   Charley    CUSTN 1013  10450    4600   West\n",
       "485  25-Dec-07   Charley    CUSTN 1018  10400    2940  South\n",
       "486  25-Dec-07  Veronica    CUSTN 1022  12350    2620  North\n",
       "487  27-Dec-07   Charley    CUSTN 1013  13800    4880  North\n",
       "488  27-Dec-07     Bruce    CUSTN 1014  11200    5640   East\n",
       "\n",
       "[489 rows x 6 columns]"
      ]
     },
     "execution_count": 82,
     "metadata": {},
     "output_type": "execute_result"
    }
   ],
   "source": [
    "data=pd.read_csv(\"data.csv\")\n",
    "data"
   ]
  },
  {
   "cell_type": "code",
   "execution_count": 88,
   "id": "2e8f264b-2d10-412b-95ff-d76e71463d39",
   "metadata": {},
   "outputs": [
    {
     "data": {
      "text/html": [
       "<div>\n",
       "<style scoped>\n",
       "    .dataframe tbody tr th:only-of-type {\n",
       "        vertical-align: middle;\n",
       "    }\n",
       "\n",
       "    .dataframe tbody tr th {\n",
       "        vertical-align: top;\n",
       "    }\n",
       "\n",
       "    .dataframe thead th {\n",
       "        text-align: right;\n",
       "    }\n",
       "</style>\n",
       "<table border=\"1\" class=\"dataframe\">\n",
       "  <thead>\n",
       "    <tr style=\"text-align: right;\">\n",
       "      <th></th>\n",
       "      <th>Sales Rep</th>\n",
       "      <th>Customer Code</th>\n",
       "      <th>Sales</th>\n",
       "      <th>Profit</th>\n",
       "      <th>Region</th>\n",
       "      <th>Date</th>\n",
       "    </tr>\n",
       "  </thead>\n",
       "  <tbody>\n",
       "    <tr>\n",
       "      <th>0</th>\n",
       "      <td>Abhay</td>\n",
       "      <td>CUSTN 1014</td>\n",
       "      <td>10600</td>\n",
       "      <td>4080</td>\n",
       "      <td>South</td>\n",
       "      <td>NaN</td>\n",
       "    </tr>\n",
       "    <tr>\n",
       "      <th>4</th>\n",
       "      <td>Bruce</td>\n",
       "      <td>CUSTN 1022</td>\n",
       "      <td>14200</td>\n",
       "      <td>5320</td>\n",
       "      <td>East</td>\n",
       "      <td>NaN</td>\n",
       "    </tr>\n",
       "    <tr>\n",
       "      <th>5</th>\n",
       "      <td>Abhay</td>\n",
       "      <td>CUSTN 1011</td>\n",
       "      <td>10900</td>\n",
       "      <td>3380</td>\n",
       "      <td>East</td>\n",
       "      <td>NaN</td>\n",
       "    </tr>\n",
       "    <tr>\n",
       "      <th>6</th>\n",
       "      <td>Jaspreet</td>\n",
       "      <td>CUSTN 1015</td>\n",
       "      <td>10200</td>\n",
       "      <td>4420</td>\n",
       "      <td>East</td>\n",
       "      <td>NaN</td>\n",
       "    </tr>\n",
       "    <tr>\n",
       "      <th>7</th>\n",
       "      <td>Veronica</td>\n",
       "      <td>CUSTN 1011</td>\n",
       "      <td>10100</td>\n",
       "      <td>2720</td>\n",
       "      <td>North</td>\n",
       "      <td>NaN</td>\n",
       "    </tr>\n",
       "    <tr>\n",
       "      <th>...</th>\n",
       "      <td>...</td>\n",
       "      <td>...</td>\n",
       "      <td>...</td>\n",
       "      <td>...</td>\n",
       "      <td>...</td>\n",
       "      <td>...</td>\n",
       "    </tr>\n",
       "    <tr>\n",
       "      <th>484</th>\n",
       "      <td>Charley</td>\n",
       "      <td>CUSTN 1013</td>\n",
       "      <td>10450</td>\n",
       "      <td>4600</td>\n",
       "      <td>West</td>\n",
       "      <td>20-Dec-07</td>\n",
       "    </tr>\n",
       "    <tr>\n",
       "      <th>485</th>\n",
       "      <td>Charley</td>\n",
       "      <td>CUSTN 1018</td>\n",
       "      <td>10400</td>\n",
       "      <td>2940</td>\n",
       "      <td>South</td>\n",
       "      <td>25-Dec-07</td>\n",
       "    </tr>\n",
       "    <tr>\n",
       "      <th>486</th>\n",
       "      <td>Veronica</td>\n",
       "      <td>CUSTN 1022</td>\n",
       "      <td>12350</td>\n",
       "      <td>2620</td>\n",
       "      <td>North</td>\n",
       "      <td>25-Dec-07</td>\n",
       "    </tr>\n",
       "    <tr>\n",
       "      <th>487</th>\n",
       "      <td>Charley</td>\n",
       "      <td>CUSTN 1013</td>\n",
       "      <td>13800</td>\n",
       "      <td>4880</td>\n",
       "      <td>North</td>\n",
       "      <td>27-Dec-07</td>\n",
       "    </tr>\n",
       "    <tr>\n",
       "      <th>488</th>\n",
       "      <td>Bruce</td>\n",
       "      <td>CUSTN 1014</td>\n",
       "      <td>11200</td>\n",
       "      <td>5640</td>\n",
       "      <td>East</td>\n",
       "      <td>27-Dec-07</td>\n",
       "    </tr>\n",
       "  </tbody>\n",
       "</table>\n",
       "<p>587 rows × 6 columns</p>\n",
       "</div>"
      ],
      "text/plain": [
       "    Sales Rep Customer Code  Sales  Profit Region       Date\n",
       "0       Abhay    CUSTN 1014  10600    4080  South        NaN\n",
       "4       Bruce    CUSTN 1022  14200    5320   East        NaN\n",
       "5       Abhay    CUSTN 1011  10900    3380   East        NaN\n",
       "6    Jaspreet    CUSTN 1015  10200    4420   East        NaN\n",
       "7    Veronica    CUSTN 1011  10100    2720  North        NaN\n",
       "..        ...           ...    ...     ...    ...        ...\n",
       "484   Charley    CUSTN 1013  10450    4600   West  20-Dec-07\n",
       "485   Charley    CUSTN 1018  10400    2940  South  25-Dec-07\n",
       "486  Veronica    CUSTN 1022  12350    2620  North  25-Dec-07\n",
       "487   Charley    CUSTN 1013  13800    4880  North  27-Dec-07\n",
       "488     Bruce    CUSTN 1014  11200    5640   East  27-Dec-07\n",
       "\n",
       "[587 rows x 6 columns]"
      ]
     },
     "execution_count": 88,
     "metadata": {},
     "output_type": "execute_result"
    }
   ],
   "source": [
    "merge=pd.concat((add,data),axis=0)\n",
    "merge"
   ]
  },
  {
   "cell_type": "code",
   "execution_count": 90,
   "id": "4a580fc1-8531-4e7b-a502-419971923494",
   "metadata": {},
   "outputs": [
    {
     "data": {
      "text/html": [
       "<div>\n",
       "<style scoped>\n",
       "    .dataframe tbody tr th:only-of-type {\n",
       "        vertical-align: middle;\n",
       "    }\n",
       "\n",
       "    .dataframe tbody tr th {\n",
       "        vertical-align: top;\n",
       "    }\n",
       "\n",
       "    .dataframe thead th {\n",
       "        text-align: right;\n",
       "    }\n",
       "</style>\n",
       "<table border=\"1\" class=\"dataframe\">\n",
       "  <thead>\n",
       "    <tr style=\"text-align: right;\">\n",
       "      <th></th>\n",
       "      <th>Customer</th>\n",
       "      <th>Customer Code</th>\n",
       "      <th>Association Date</th>\n",
       "    </tr>\n",
       "  </thead>\n",
       "  <tbody>\n",
       "    <tr>\n",
       "      <th>0</th>\n",
       "      <td>Shyam &amp; Sharma Co</td>\n",
       "      <td>CUSTN 1011</td>\n",
       "      <td>23-Jun-05</td>\n",
       "    </tr>\n",
       "    <tr>\n",
       "      <th>1</th>\n",
       "      <td>MNTL</td>\n",
       "      <td>CUSTN 1012</td>\n",
       "      <td>4-Aug-05</td>\n",
       "    </tr>\n",
       "    <tr>\n",
       "      <th>2</th>\n",
       "      <td>Sharma &amp; Co</td>\n",
       "      <td>CUSTN 1013</td>\n",
       "      <td>9-Jun-05</td>\n",
       "    </tr>\n",
       "    <tr>\n",
       "      <th>3</th>\n",
       "      <td>White Associates</td>\n",
       "      <td>CUSTN 1014</td>\n",
       "      <td>28-Jul-05</td>\n",
       "    </tr>\n",
       "    <tr>\n",
       "      <th>4</th>\n",
       "      <td>Boston Consultants</td>\n",
       "      <td>CUSTN 1015</td>\n",
       "      <td>1-Jul-05</td>\n",
       "    </tr>\n",
       "    <tr>\n",
       "      <th>5</th>\n",
       "      <td>Shah Associates</td>\n",
       "      <td>CUSTN 1016</td>\n",
       "      <td>11-Jul-05</td>\n",
       "    </tr>\n",
       "    <tr>\n",
       "      <th>6</th>\n",
       "      <td>Namint Enterprises</td>\n",
       "      <td>CUSTN 1017</td>\n",
       "      <td>5-Jun-05</td>\n",
       "    </tr>\n",
       "    <tr>\n",
       "      <th>7</th>\n",
       "      <td>Data Tronics</td>\n",
       "      <td>CUSTN 1018</td>\n",
       "      <td>22-Aug-05</td>\n",
       "    </tr>\n",
       "    <tr>\n",
       "      <th>8</th>\n",
       "      <td>VCC</td>\n",
       "      <td>CUSTN 1019</td>\n",
       "      <td>11-Aug-05</td>\n",
       "    </tr>\n",
       "    <tr>\n",
       "      <th>9</th>\n",
       "      <td>India Trotters</td>\n",
       "      <td>CUSTN 1020</td>\n",
       "      <td>3-Sep-05</td>\n",
       "    </tr>\n",
       "    <tr>\n",
       "      <th>10</th>\n",
       "      <td>Good Fly</td>\n",
       "      <td>CUSTN 1021</td>\n",
       "      <td>13-Jun-05</td>\n",
       "    </tr>\n",
       "    <tr>\n",
       "      <th>11</th>\n",
       "      <td>Jindle Power Works</td>\n",
       "      <td>CUSTN 1022</td>\n",
       "      <td>7-Aug-05</td>\n",
       "    </tr>\n",
       "  </tbody>\n",
       "</table>\n",
       "</div>"
      ],
      "text/plain": [
       "              Customer Customer Code Association Date\n",
       "0    Shyam & Sharma Co    CUSTN 1011        23-Jun-05\n",
       "1                 MNTL    CUSTN 1012         4-Aug-05\n",
       "2          Sharma & Co    CUSTN 1013         9-Jun-05\n",
       "3     White Associates    CUSTN 1014        28-Jul-05\n",
       "4   Boston Consultants    CUSTN 1015         1-Jul-05\n",
       "5      Shah Associates    CUSTN 1016        11-Jul-05\n",
       "6   Namint Enterprises    CUSTN 1017         5-Jun-05\n",
       "7         Data Tronics    CUSTN 1018        22-Aug-05\n",
       "8                  VCC    CUSTN 1019        11-Aug-05\n",
       "9       India Trotters    CUSTN 1020         3-Sep-05\n",
       "10            Good Fly    CUSTN 1021        13-Jun-05\n",
       "11  Jindle Power Works    CUSTN 1022         7-Aug-05"
      ]
     },
     "execution_count": 90,
     "metadata": {},
     "output_type": "execute_result"
    }
   ],
   "source": [
    "cust=pd.read_csv(\"customers.csv\")\n",
    "cust"
   ]
  },
  {
   "cell_type": "code",
   "execution_count": 100,
   "id": "9e52d5d0-a4ea-44b1-836d-8f33ab1308aa",
   "metadata": {},
   "outputs": [
    {
     "data": {
      "text/html": [
       "<div>\n",
       "<style scoped>\n",
       "    .dataframe tbody tr th:only-of-type {\n",
       "        vertical-align: middle;\n",
       "    }\n",
       "\n",
       "    .dataframe tbody tr th {\n",
       "        vertical-align: top;\n",
       "    }\n",
       "\n",
       "    .dataframe thead th {\n",
       "        text-align: right;\n",
       "    }\n",
       "</style>\n",
       "<table border=\"1\" class=\"dataframe\">\n",
       "  <thead>\n",
       "    <tr style=\"text-align: right;\">\n",
       "      <th></th>\n",
       "      <th>Sales Rep</th>\n",
       "      <th>Customer Code</th>\n",
       "      <th>Sales</th>\n",
       "      <th>Profit</th>\n",
       "      <th>Region</th>\n",
       "      <th>Date</th>\n",
       "      <th>Customer</th>\n",
       "      <th>Association Date</th>\n",
       "    </tr>\n",
       "  </thead>\n",
       "  <tbody>\n",
       "    <tr>\n",
       "      <th>0</th>\n",
       "      <td>Abhay</td>\n",
       "      <td>CUSTN 1014</td>\n",
       "      <td>10600</td>\n",
       "      <td>4080</td>\n",
       "      <td>South</td>\n",
       "      <td>NaN</td>\n",
       "      <td>White Associates</td>\n",
       "      <td>28-Jul-05</td>\n",
       "    </tr>\n",
       "    <tr>\n",
       "      <th>1</th>\n",
       "      <td>Bruce</td>\n",
       "      <td>CUSTN 1022</td>\n",
       "      <td>14200</td>\n",
       "      <td>5320</td>\n",
       "      <td>East</td>\n",
       "      <td>NaN</td>\n",
       "      <td>Jindle Power Works</td>\n",
       "      <td>7-Aug-05</td>\n",
       "    </tr>\n",
       "    <tr>\n",
       "      <th>2</th>\n",
       "      <td>Abhay</td>\n",
       "      <td>CUSTN 1011</td>\n",
       "      <td>10900</td>\n",
       "      <td>3380</td>\n",
       "      <td>East</td>\n",
       "      <td>NaN</td>\n",
       "      <td>Shyam &amp; Sharma Co</td>\n",
       "      <td>23-Jun-05</td>\n",
       "    </tr>\n",
       "    <tr>\n",
       "      <th>3</th>\n",
       "      <td>Jaspreet</td>\n",
       "      <td>CUSTN 1015</td>\n",
       "      <td>10200</td>\n",
       "      <td>4420</td>\n",
       "      <td>East</td>\n",
       "      <td>NaN</td>\n",
       "      <td>Boston Consultants</td>\n",
       "      <td>1-Jul-05</td>\n",
       "    </tr>\n",
       "    <tr>\n",
       "      <th>4</th>\n",
       "      <td>Veronica</td>\n",
       "      <td>CUSTN 1011</td>\n",
       "      <td>10100</td>\n",
       "      <td>2720</td>\n",
       "      <td>North</td>\n",
       "      <td>NaN</td>\n",
       "      <td>Shyam &amp; Sharma Co</td>\n",
       "      <td>23-Jun-05</td>\n",
       "    </tr>\n",
       "    <tr>\n",
       "      <th>...</th>\n",
       "      <td>...</td>\n",
       "      <td>...</td>\n",
       "      <td>...</td>\n",
       "      <td>...</td>\n",
       "      <td>...</td>\n",
       "      <td>...</td>\n",
       "      <td>...</td>\n",
       "      <td>...</td>\n",
       "    </tr>\n",
       "    <tr>\n",
       "      <th>582</th>\n",
       "      <td>Charley</td>\n",
       "      <td>CUSTN 1013</td>\n",
       "      <td>10450</td>\n",
       "      <td>4600</td>\n",
       "      <td>West</td>\n",
       "      <td>20-Dec-07</td>\n",
       "      <td>Sharma &amp; Co</td>\n",
       "      <td>9-Jun-05</td>\n",
       "    </tr>\n",
       "    <tr>\n",
       "      <th>583</th>\n",
       "      <td>Charley</td>\n",
       "      <td>CUSTN 1018</td>\n",
       "      <td>10400</td>\n",
       "      <td>2940</td>\n",
       "      <td>South</td>\n",
       "      <td>25-Dec-07</td>\n",
       "      <td>Data Tronics</td>\n",
       "      <td>22-Aug-05</td>\n",
       "    </tr>\n",
       "    <tr>\n",
       "      <th>584</th>\n",
       "      <td>Veronica</td>\n",
       "      <td>CUSTN 1022</td>\n",
       "      <td>12350</td>\n",
       "      <td>2620</td>\n",
       "      <td>North</td>\n",
       "      <td>25-Dec-07</td>\n",
       "      <td>Jindle Power Works</td>\n",
       "      <td>7-Aug-05</td>\n",
       "    </tr>\n",
       "    <tr>\n",
       "      <th>585</th>\n",
       "      <td>Charley</td>\n",
       "      <td>CUSTN 1013</td>\n",
       "      <td>13800</td>\n",
       "      <td>4880</td>\n",
       "      <td>North</td>\n",
       "      <td>27-Dec-07</td>\n",
       "      <td>Sharma &amp; Co</td>\n",
       "      <td>9-Jun-05</td>\n",
       "    </tr>\n",
       "    <tr>\n",
       "      <th>586</th>\n",
       "      <td>Bruce</td>\n",
       "      <td>CUSTN 1014</td>\n",
       "      <td>11200</td>\n",
       "      <td>5640</td>\n",
       "      <td>East</td>\n",
       "      <td>27-Dec-07</td>\n",
       "      <td>White Associates</td>\n",
       "      <td>28-Jul-05</td>\n",
       "    </tr>\n",
       "  </tbody>\n",
       "</table>\n",
       "<p>587 rows × 8 columns</p>\n",
       "</div>"
      ],
      "text/plain": [
       "    Sales Rep Customer Code  Sales  Profit Region       Date  \\\n",
       "0       Abhay    CUSTN 1014  10600    4080  South        NaN   \n",
       "1       Bruce    CUSTN 1022  14200    5320   East        NaN   \n",
       "2       Abhay    CUSTN 1011  10900    3380   East        NaN   \n",
       "3    Jaspreet    CUSTN 1015  10200    4420   East        NaN   \n",
       "4    Veronica    CUSTN 1011  10100    2720  North        NaN   \n",
       "..        ...           ...    ...     ...    ...        ...   \n",
       "582   Charley    CUSTN 1013  10450    4600   West  20-Dec-07   \n",
       "583   Charley    CUSTN 1018  10400    2940  South  25-Dec-07   \n",
       "584  Veronica    CUSTN 1022  12350    2620  North  25-Dec-07   \n",
       "585   Charley    CUSTN 1013  13800    4880  North  27-Dec-07   \n",
       "586     Bruce    CUSTN 1014  11200    5640   East  27-Dec-07   \n",
       "\n",
       "               Customer Association Date  \n",
       "0      White Associates        28-Jul-05  \n",
       "1    Jindle Power Works         7-Aug-05  \n",
       "2     Shyam & Sharma Co        23-Jun-05  \n",
       "3    Boston Consultants         1-Jul-05  \n",
       "4     Shyam & Sharma Co        23-Jun-05  \n",
       "..                  ...              ...  \n",
       "582         Sharma & Co         9-Jun-05  \n",
       "583        Data Tronics        22-Aug-05  \n",
       "584  Jindle Power Works         7-Aug-05  \n",
       "585         Sharma & Co         9-Jun-05  \n",
       "586    White Associates        28-Jul-05  \n",
       "\n",
       "[587 rows x 8 columns]"
      ]
     },
     "execution_count": 100,
     "metadata": {},
     "output_type": "execute_result"
    }
   ],
   "source": [
    "sample=pd.merge(merge,cust,on=\"Customer Code\",how=\"inner\")\n",
    "sample"
   ]
  },
  {
   "cell_type": "code",
   "execution_count": 106,
   "id": "8f0117e2-b759-4747-ac3b-365594eb352b",
   "metadata": {},
   "outputs": [
    {
     "data": {
      "text/plain": [
       "575"
      ]
     },
     "execution_count": 106,
     "metadata": {},
     "output_type": "execute_result"
    }
   ],
   "source": [
    "sample[\"Sales Rep\"].duplicated().sum()"
   ]
  },
  {
   "cell_type": "code",
   "execution_count": 108,
   "id": "958bc1d2-284f-400d-9e0c-9516a62aacb8",
   "metadata": {},
   "outputs": [],
   "source": [
    "sample[\"Sales Rep\"].drop_duplicates(inplace=True)"
   ]
  },
  {
   "cell_type": "code",
   "execution_count": 112,
   "id": "c4c7feb6-c99a-47bf-bf76-30ab1b36cf2f",
   "metadata": {},
   "outputs": [
    {
     "data": {
      "text/plain": [
       "0         Abhay\n",
       "1         Bruce\n",
       "2         Abhay\n",
       "3      Jaspreet\n",
       "4      Veronica\n",
       "         ...   \n",
       "582     Charley\n",
       "583     Charley\n",
       "584    Veronica\n",
       "585     Charley\n",
       "586       Bruce\n",
       "Name: Sales Rep, Length: 587, dtype: object"
      ]
     },
     "execution_count": 112,
     "metadata": {},
     "output_type": "execute_result"
    }
   ],
   "source": [
    "sample[\"Sales Rep\"]"
   ]
  },
  {
   "cell_type": "code",
   "execution_count": null,
   "id": "e495c8f9-61b0-4680-a55e-2bd43ec6b28d",
   "metadata": {},
   "outputs": [],
   "source": []
  }
 ],
 "metadata": {
  "kernelspec": {
   "display_name": "Python [conda env:base] *",
   "language": "python",
   "name": "conda-base-py"
  },
  "language_info": {
   "codemirror_mode": {
    "name": "ipython",
    "version": 3
   },
   "file_extension": ".py",
   "mimetype": "text/x-python",
   "name": "python",
   "nbconvert_exporter": "python",
   "pygments_lexer": "ipython3",
   "version": "3.12.7"
  }
 },
 "nbformat": 4,
 "nbformat_minor": 5
}
